{
 "cells": [
  {
   "cell_type": "code",
   "execution_count": 1,
   "id": "aa254ebe",
   "metadata": {},
   "outputs": [],
   "source": [
    "import numpy as np\n",
    "np.random.seed(1)"
   ]
  },
  {
   "cell_type": "code",
   "execution_count": 2,
   "id": "7336a1ac",
   "metadata": {},
   "outputs": [],
   "source": [
    "'''\n",
    "estimates x_i*x_j for all i,j=1,2,...,n\n",
    "returns n by n array M where M_ij approximates x_i*x_j\n",
    "'''\n",
    "def Z_naive(n,p,Y):\n",
    "    Ybar = Y.reshape((n,n**2))\n",
    "    M = np.sign(np.matmul(Ybar,np.transpose(Ybar)))\n",
    "    return M\n",
    "\n",
    "def simple_stat(n,p,Y):\n",
    "    M = np.zeros((n,n))\n",
    "    for i in range(n):\n",
    "        Ybar = np.matmul(Y[i,:],Y[i,:]) - 2*np.matmul(Y[i,:],Y) + np.matmul(Y,Y) - 2\n",
    "        sums = np.sum(np.sum(Ybar, axis=2), axis=1) / (n**np.ceil(p/2))\n",
    "        # need to figure out what M should be\n",
    "    return M"
   ]
  },
  {
   "cell_type": "code",
   "execution_count": 3,
   "id": "2ed97b2b",
   "metadata": {},
   "outputs": [
    {
     "name": "stdout",
     "output_type": "stream",
     "text": [
      "CPU times: user 5.35 s, sys: 4.35 s, total: 9.7 s\n",
      "Wall time: 8.37 s\n"
     ]
    }
   ],
   "source": [
    "%%time\n",
    "'''\n",
    "Here we create a test Y = lambda*x^p + G for p=3 \n",
    "where x^3 represents taking the outer product of x with itself 3 times\n",
    "'''\n",
    "# parameters\n",
    "n = 900\n",
    "p = 3\n",
    "lam = 0.15\n",
    "\n",
    "# x\n",
    "domain = np.array([-1.,1.])\n",
    "x = np.random.choice(domain,n)\n",
    "xp = np.tensordot(np.tensordot(x,x,axes=0), x, axes=0)"
   ]
  },
  {
   "cell_type": "code",
   "execution_count": 4,
   "id": "82f787d3",
   "metadata": {},
   "outputs": [
    {
     "name": "stdout",
     "output_type": "stream",
     "text": [
      "CPU times: user 41.3 s, sys: 53.9 s, total: 1min 35s\n",
      "Wall time: 2min 32s\n"
     ]
    },
    {
     "data": {
      "text/plain": [
       "(900, 900, 900)"
      ]
     },
     "execution_count": 4,
     "metadata": {},
     "output_type": "execute_result"
    }
   ],
   "source": [
    "%%time\n",
    "# Y\n",
    "noise_size = np.full(shape=p, fill_value=n, dtype=int)\n",
    "Y = lam*xp + np.random.normal(0,1,size=noise_size)\n",
    "np.shape(Y)"
   ]
  },
  {
   "cell_type": "code",
   "execution_count": 5,
   "id": "2a6d40f9",
   "metadata": {},
   "outputs": [],
   "source": [
    "# print(x)\n",
    "# print(xp)\n",
    "# print(Y)"
   ]
  },
  {
   "cell_type": "code",
   "execution_count": 6,
   "id": "6d3c92bd",
   "metadata": {},
   "outputs": [
    {
     "name": "stdout",
     "output_type": "stream",
     "text": [
      "CPU times: user 47.5 s, sys: 16.3 s, total: 1min 3s\n",
      "Wall time: 50.3 s\n"
     ]
    }
   ],
   "source": [
    "%%time\n",
    "M = Z_naive(n,p,Y)"
   ]
  },
  {
   "cell_type": "code",
   "execution_count": 7,
   "id": "541a0be8",
   "metadata": {},
   "outputs": [
    {
     "name": "stdout",
     "output_type": "stream",
     "text": [
      "CPU times: user 880 ms, sys: 85 ms, total: 965 ms\n",
      "Wall time: 1.28 s\n"
     ]
    }
   ],
   "source": [
    "%%time\n",
    "# get our estimate for x\n",
    "U,S,Ut = np.linalg.svd(M)\n",
    "xhat = np.sign(Ut[0])"
   ]
  },
  {
   "cell_type": "code",
   "execution_count": 8,
   "id": "ec24722c",
   "metadata": {},
   "outputs": [
    {
     "name": "stdout",
     "output_type": "stream",
     "text": [
      "0.0 0.0\n"
     ]
    }
   ],
   "source": [
    "# How well did we do?\n",
    "abserr = np.abs(xhat - x)\n",
    "err2norm = np.minimum(np.linalg.norm(xhat - x), np.linalg.norm(xhat + x))\n",
    "print(err2norm, np.minimum(np.sum(xhat==x)/n, np.sum(xhat!=x)/n))"
   ]
  },
  {
   "cell_type": "markdown",
   "id": "d38f8a43",
   "metadata": {},
   "source": [
    "# Notes\n",
    "+ Not sure how \"badly\" the naive/simple statistic is supposed to do\n",
    "+ Would like to modify the function so that it return the whole \"estimated\" vector x_estimate"
   ]
  },
  {
   "cell_type": "code",
   "execution_count": null,
   "id": "7c761b91",
   "metadata": {},
   "outputs": [],
   "source": []
  }
 ],
 "metadata": {
  "kernelspec": {
   "display_name": "Python 3",
   "language": "python",
   "name": "python3"
  },
  "language_info": {
   "codemirror_mode": {
    "name": "ipython",
    "version": 3
   },
   "file_extension": ".py",
   "mimetype": "text/x-python",
   "name": "python",
   "nbconvert_exporter": "python",
   "pygments_lexer": "ipython3",
   "version": "3.7.1"
  }
 },
 "nbformat": 4,
 "nbformat_minor": 5
}
