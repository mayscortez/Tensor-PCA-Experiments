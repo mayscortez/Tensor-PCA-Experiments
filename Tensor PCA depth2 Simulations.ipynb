{
 "cells": [
  {
   "cell_type": "code",
   "execution_count": 3,
   "id": "d45524e4",
   "metadata": {},
   "outputs": [],
   "source": [
    "import numpy as np\n",
    "import functools\n",
    "#np.random.seed(1)"
   ]
  },
  {
   "cell_type": "code",
   "execution_count": 4,
   "id": "8ec6a7d0",
   "metadata": {},
   "outputs": [
    {
     "name": "stdout",
     "output_type": "stream",
     "text": [
      "CPU times: user 4.6 s, sys: 5.57 s, total: 10.2 s\n",
      "Wall time: 9.63 s\n"
     ]
    }
   ],
   "source": [
    "%%time\n",
    "'''\n",
    "Here we create a test Y = lambda*x^p + G for p=3 \n",
    "where x^3 represents taking the outer product of x with itself 3 times and G is standard Gaussian noise\n",
    "'''\n",
    "# parameters\n",
    "n = 800\n",
    "p = 3\n",
    "lam = 1\n",
    "\n",
    "# x\n",
    "domain = np.array([-1.,1.])\n",
    "x = np.random.choice(domain,n)\n",
    "xp = np.tensordot(np.tensordot(x,x,axes=0), x, axes=0)"
   ]
  },
  {
   "cell_type": "code",
   "execution_count": 3,
   "id": "b7cf6cb8",
   "metadata": {},
   "outputs": [
    {
     "name": "stdout",
     "output_type": "stream",
     "text": [
      "CPU times: user 25.4 s, sys: 32.7 s, total: 58.1 s\n",
      "Wall time: 1min 23s\n"
     ]
    },
    {
     "data": {
      "text/plain": [
       "(800, 800, 800)"
      ]
     },
     "execution_count": 3,
     "metadata": {},
     "output_type": "execute_result"
    }
   ],
   "source": [
    "%%time\n",
    "\n",
    "# G\n",
    "noise_size = np.full(shape=p, fill_value=n, dtype=int)\n",
    "G = np.random.normal(0,1,size=noise_size)\n",
    "# Y\n",
    "Y = lam*xp + G\n",
    "np.shape(Y)"
   ]
  },
  {
   "cell_type": "code",
   "execution_count": 4,
   "id": "dabfd6c8",
   "metadata": {},
   "outputs": [
    {
     "data": {
      "text/plain": [
       "(800, 640000)"
      ]
     },
     "execution_count": 4,
     "metadata": {},
     "output_type": "execute_result"
    }
   ],
   "source": [
    "# flatten Y\n",
    "Ybar = Y.reshape((n,n**2))\n",
    "np.shape(Ybar)"
   ]
  },
  {
   "cell_type": "code",
   "execution_count": 5,
   "id": "2d2bb831",
   "metadata": {},
   "outputs": [
    {
     "name": "stdout",
     "output_type": "stream",
     "text": [
      "CPU times: user 48.4 s, sys: 47 s, total: 1min 35s\n",
      "Wall time: 1min 43s\n"
     ]
    },
    {
     "data": {
      "text/plain": [
       "(800, 800)"
      ]
     },
     "execution_count": 5,
     "metadata": {},
     "output_type": "execute_result"
    }
   ],
   "source": [
    "%%time\n",
    "# estimate <x,x>\n",
    "n2ceil = np.ceil(n/2).astype(int)\n",
    "Mhat = functools.reduce(np.matmul,\n",
    "              [np.transpose(Ybar[0:n2ceil,0:n]),\n",
    "               Ybar[0:n2ceil,(n+1):],\n",
    "               np.transpose(Ybar[(n2ceil+1):,(n+1):]),\n",
    "               Ybar[(n2ceil+1):,0:n]])\n",
    "np.shape(Mhat)"
   ]
  },
  {
   "cell_type": "code",
   "execution_count": 6,
   "id": "a07557c4",
   "metadata": {},
   "outputs": [],
   "source": [
    "# recover x via spectral clustering\n",
    "U,S,Ut = np.linalg.svd(Mhat)\n",
    "#print(S)\n",
    "#U,S,Ut = np.linalg.svd(np.sign(Mhat))\n",
    "#print(S)"
   ]
  },
  {
   "cell_type": "code",
   "execution_count": 7,
   "id": "bdfdef8a",
   "metadata": {},
   "outputs": [],
   "source": [
    "# estimate for x\n",
    "# xhat = np.sign(U[0])\n",
    "xhatT = np.sign(np.transpose(U)[0])"
   ]
  },
  {
   "cell_type": "code",
   "execution_count": 8,
   "id": "5646d455",
   "metadata": {},
   "outputs": [
    {
     "name": "stdout",
     "output_type": "stream",
     "text": [
      "0.0 0.0\n"
     ]
    }
   ],
   "source": [
    "#abserr = np.minimum(np.sum(np.abs(xhatT - x)),np.sum(np.abs(xhatT + x)))/n\n",
    "err2norm = np.minimum(np.linalg.norm(xhatT - x),np.linalg.norm(xhatT + x))/n\n",
    "print(err2norm, np.minimum(np.sum(xhatT==x)/n, np.sum(xhatT!=x)/n))"
   ]
  },
  {
   "cell_type": "markdown",
   "id": "2e57a76e",
   "metadata": {},
   "source": [
    "# Different Values of Lambda"
   ]
  },
  {
   "cell_type": "code",
   "execution_count": 9,
   "id": "ba179fe7",
   "metadata": {},
   "outputs": [],
   "source": [
    "lam1 = 0.5\n",
    "lam2 = 0.3\n",
    "lam3 = 0.2\n",
    "lam4 = 0.15\n",
    "lam5 = 0.1"
   ]
  },
  {
   "cell_type": "code",
   "execution_count": 10,
   "id": "5a025d7b",
   "metadata": {},
   "outputs": [
    {
     "name": "stdout",
     "output_type": "stream",
     "text": [
      "CPU times: user 14.6 s, sys: 1min 23s, total: 1min 38s\n",
      "Wall time: 2min 58s\n"
     ]
    }
   ],
   "source": [
    "%%time\n",
    "# Y\n",
    "Y1 = lam1*xp + G\n",
    "Y2 = lam2*xp + G"
   ]
  },
  {
   "cell_type": "code",
   "execution_count": 11,
   "id": "2dc748cf",
   "metadata": {},
   "outputs": [
    {
     "name": "stdout",
     "output_type": "stream",
     "text": [
      "CPU times: user 15.3 s, sys: 1min 24s, total: 1min 39s\n",
      "Wall time: 3min 13s\n"
     ]
    }
   ],
   "source": [
    "%%time\n",
    "Y3 = lam3*xp + G\n",
    "Y4 = lam4*xp + G"
   ]
  },
  {
   "cell_type": "code",
   "execution_count": 12,
   "id": "89e61f78",
   "metadata": {},
   "outputs": [
    {
     "name": "stdout",
     "output_type": "stream",
     "text": [
      "CPU times: user 8.23 s, sys: 43.4 s, total: 51.6 s\n",
      "Wall time: 1min 34s\n"
     ]
    }
   ],
   "source": [
    "%%time\n",
    "Y5 = lam5*xp + G"
   ]
  },
  {
   "cell_type": "code",
   "execution_count": 13,
   "id": "684eef60",
   "metadata": {},
   "outputs": [],
   "source": [
    "# flatten Y\n",
    "Ybar1 = Y1.reshape((n,n**2))\n",
    "Ybar2 = Y2.reshape((n,n**2))\n",
    "Ybar3 = Y3.reshape((n,n**2))\n",
    "Ybar4 = Y4.reshape((n,n**2))\n",
    "Ybar5 = Y5.reshape((n,n**2))"
   ]
  },
  {
   "cell_type": "code",
   "execution_count": 14,
   "id": "8410a0b0",
   "metadata": {},
   "outputs": [
    {
     "name": "stdout",
     "output_type": "stream",
     "text": [
      "CPU times: user 1min 38s, sys: 1min 37s, total: 3min 15s\n",
      "Wall time: 3min 10s\n"
     ]
    }
   ],
   "source": [
    "%%time\n",
    "# estimate <x,x>\n",
    "n2ceil = np.ceil(n/2).astype(int)\n",
    "\n",
    "Mhat1 = functools.reduce(np.matmul,\n",
    "              [np.transpose(Ybar1[0:n2ceil,0:n]),\n",
    "               Ybar1[0:n2ceil,(n+1):],\n",
    "               np.transpose(Ybar1[(n2ceil+1):,(n+1):]),\n",
    "               Ybar1[(n2ceil+1):,0:n]])\n",
    "Mhat2 = functools.reduce(np.matmul,\n",
    "              [np.transpose(Ybar2[0:n2ceil,0:n]),\n",
    "               Ybar2[0:n2ceil,(n+1):],\n",
    "               np.transpose(Ybar2[(n2ceil+1):,(n+1):]),\n",
    "               Ybar2[(n2ceil+1):,0:n]])"
   ]
  },
  {
   "cell_type": "code",
   "execution_count": 15,
   "id": "8c20d0a1",
   "metadata": {},
   "outputs": [
    {
     "name": "stdout",
     "output_type": "stream",
     "text": [
      "CPU times: user 1min 38s, sys: 1min 35s, total: 3min 13s\n",
      "Wall time: 3min 12s\n"
     ]
    }
   ],
   "source": [
    "%%time\n",
    "Mhat3 = functools.reduce(np.matmul,\n",
    "              [np.transpose(Ybar3[0:n2ceil,0:n]),\n",
    "               Ybar3[0:n2ceil,(n+1):],\n",
    "               np.transpose(Ybar3[(n2ceil+1):,(n+1):]),\n",
    "               Ybar3[(n2ceil+1):,0:n]])\n",
    "Mhat4 = functools.reduce(np.matmul,\n",
    "              [np.transpose(Ybar4[0:n2ceil,0:n]),\n",
    "               Ybar4[0:n2ceil,(n+1):],\n",
    "               np.transpose(Ybar4[(n2ceil+1):,(n+1):]),\n",
    "               Ybar4[(n2ceil+1):,0:n]])"
   ]
  },
  {
   "cell_type": "code",
   "execution_count": 16,
   "id": "9849adcd",
   "metadata": {},
   "outputs": [
    {
     "name": "stdout",
     "output_type": "stream",
     "text": [
      "CPU times: user 48.9 s, sys: 45.9 s, total: 1min 34s\n",
      "Wall time: 1min 31s\n"
     ]
    }
   ],
   "source": [
    "%%time\n",
    "Mhat5 = functools.reduce(np.matmul,\n",
    "              [np.transpose(Ybar5[0:n2ceil,0:n]),\n",
    "               Ybar5[0:n2ceil,(n+1):],\n",
    "               np.transpose(Ybar5[(n2ceil+1):,(n+1):]),\n",
    "               Ybar5[(n2ceil+1):,0:n]])"
   ]
  },
  {
   "cell_type": "code",
   "execution_count": 17,
   "id": "b57fbfe7",
   "metadata": {},
   "outputs": [
    {
     "name": "stdout",
     "output_type": "stream",
     "text": [
      "CPU times: user 2.56 s, sys: 255 ms, total: 2.82 s\n",
      "Wall time: 1.63 s\n"
     ]
    }
   ],
   "source": [
    "%%time\n",
    "# recover x via spectral clustering\n",
    "U,S,Ut1 = np.linalg.svd(Mhat1)\n",
    "U,S,Ut2 = np.linalg.svd(Mhat2)\n",
    "U,S,Ut3 = np.linalg.svd(Mhat3)\n",
    "U,S,Ut4 = np.linalg.svd(Mhat4)\n",
    "U,S,Ut5 = np.linalg.svd(Mhat5)"
   ]
  },
  {
   "cell_type": "code",
   "execution_count": 18,
   "id": "6d771e03",
   "metadata": {},
   "outputs": [],
   "source": [
    "# estimate for x\n",
    "xhat1 = np.sign(Ut1[0])\n",
    "xhat2 = np.sign(Ut2[0])\n",
    "xhat3 = np.sign(Ut3[0])\n",
    "xhat4 = np.sign(Ut4[0])\n",
    "xhat5 = np.sign(Ut5[0])"
   ]
  },
  {
   "cell_type": "code",
   "execution_count": 19,
   "id": "6e7b00f9",
   "metadata": {},
   "outputs": [
    {
     "name": "stdout",
     "output_type": "stream",
     "text": [
      "0.0 0.0\n"
     ]
    }
   ],
   "source": [
    "# How well did we do? lambda = 0.5\n",
    "err2norm1 = np.minimum(np.linalg.norm(xhat1 - x), np.linalg.norm(xhat1 + x))\n",
    "print(err2norm1, np.minimum(np.sum(xhat1==x)/n, np.sum(xhat1!=x)/n))"
   ]
  },
  {
   "cell_type": "code",
   "execution_count": 20,
   "id": "89d38726",
   "metadata": {},
   "outputs": [
    {
     "name": "stdout",
     "output_type": "stream",
     "text": [
      "0.0 0.0\n"
     ]
    }
   ],
   "source": [
    "# How well did we do? lambda = 0.3\n",
    "err2norm2 = np.minimum(np.linalg.norm(xhat2 - x), np.linalg.norm(xhat2 + x))\n",
    "print(err2norm2, np.minimum(np.sum(xhat2==x)/n, np.sum(xhat2!=x)/n))"
   ]
  },
  {
   "cell_type": "code",
   "execution_count": 21,
   "id": "05f624b3",
   "metadata": {},
   "outputs": [
    {
     "name": "stdout",
     "output_type": "stream",
     "text": [
      "0.0 0.0\n"
     ]
    }
   ],
   "source": [
    "# How well did we do? lambda = 0.2\n",
    "err2norm3 = np.minimum(np.linalg.norm(xhat3 - x), np.linalg.norm(xhat3 + x))\n",
    "print(err2norm3, np.minimum(np.sum(xhat3==x)/n, np.sum(xhat3!=x)/n))"
   ]
  },
  {
   "cell_type": "code",
   "execution_count": 22,
   "id": "9b9d00b7",
   "metadata": {},
   "outputs": [
    {
     "name": "stdout",
     "output_type": "stream",
     "text": [
      "2.0 0.00125\n"
     ]
    }
   ],
   "source": [
    "# How well did we do? lambda = 0.15\n",
    "err2norm4 = np.minimum(np.linalg.norm(xhat4 - x), np.linalg.norm(xhat4 + x))\n",
    "print(err2norm4, np.minimum(np.sum(xhat4==x)/n, np.sum(xhat4!=x)/n))"
   ]
  },
  {
   "cell_type": "code",
   "execution_count": 23,
   "id": "111b0093",
   "metadata": {},
   "outputs": [
    {
     "name": "stdout",
     "output_type": "stream",
     "text": [
      "7.745966692414834 0.01875\n"
     ]
    }
   ],
   "source": [
    "# How well did we do? lambda = 0.1\n",
    "err2norm5 = np.minimum(np.linalg.norm(xhat5 - x), np.linalg.norm(xhat5 + x))\n",
    "print(err2norm5, np.minimum(np.sum(xhat5==x)/n, np.sum(xhat5!=x)/n))"
   ]
  },
  {
   "cell_type": "code",
   "execution_count": 5,
   "id": "7be51569",
   "metadata": {},
   "outputs": [
    {
     "data": {
      "text/plain": [
       "0.0066478698711812355"
      ]
     },
     "execution_count": 5,
     "metadata": {},
     "output_type": "execute_result"
    }
   ],
   "source": [
    "n**(-p/4)"
   ]
  },
  {
   "cell_type": "code",
   "execution_count": null,
   "id": "d361fb37",
   "metadata": {},
   "outputs": [],
   "source": []
  }
 ],
 "metadata": {
  "kernelspec": {
   "display_name": "Python 3",
   "language": "python",
   "name": "python3"
  },
  "language_info": {
   "codemirror_mode": {
    "name": "ipython",
    "version": 3
   },
   "file_extension": ".py",
   "mimetype": "text/x-python",
   "name": "python",
   "nbconvert_exporter": "python",
   "pygments_lexer": "ipython3",
   "version": "3.7.1"
  }
 },
 "nbformat": 4,
 "nbformat_minor": 5
}
