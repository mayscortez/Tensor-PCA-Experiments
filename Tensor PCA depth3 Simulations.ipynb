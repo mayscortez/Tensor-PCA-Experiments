{
 "cells": [
  {
   "cell_type": "code",
   "execution_count": 1,
   "id": "d45524e4",
   "metadata": {},
   "outputs": [],
   "source": [
    "import numpy as np\n",
    "import functools\n",
    "#np.random.seed(1)"
   ]
  },
  {
   "cell_type": "code",
   "execution_count": 2,
   "id": "8ec6a7d0",
   "metadata": {},
   "outputs": [
    {
     "name": "stdout",
     "output_type": "stream",
     "text": [
      "CPU times: user 6.19 s, sys: 7.11 s, total: 13.3 s\n",
      "Wall time: 12.5 s\n"
     ]
    }
   ],
   "source": [
    "%%time\n",
    "'''\n",
    "Here we create a test Y = lambda*x^p + G for p=3 \n",
    "where x^3 represents taking the outer product of x with itself 3 times and G is standard Gaussian noise\n",
    "'''\n",
    "# parameters, for now choose n divisible by 3\n",
    "n = 900\n",
    "p = 3\n",
    "lam = 1\n",
    "\n",
    "# x\n",
    "domain = np.array([-1.,1.])\n",
    "x = np.random.choice(domain,n)\n",
    "xp = np.tensordot(np.tensordot(x,x,axes=0), x, axes=0)"
   ]
  },
  {
   "cell_type": "code",
   "execution_count": 3,
   "id": "3564bd40",
   "metadata": {},
   "outputs": [
    {
     "name": "stdout",
     "output_type": "stream",
     "text": [
      "CPU times: user 25.9 s, sys: 2.5 s, total: 28.4 s\n",
      "Wall time: 29.1 s\n"
     ]
    }
   ],
   "source": [
    "%%time\n",
    "# G\n",
    "noise_size = np.full(shape=p, fill_value=n, dtype=int)\n",
    "G = np.random.normal(0,1,size=noise_size)"
   ]
  },
  {
   "cell_type": "code",
   "execution_count": 4,
   "id": "7f15d438",
   "metadata": {},
   "outputs": [
    {
     "name": "stdout",
     "output_type": "stream",
     "text": [
      "CPU times: user 9.39 s, sys: 46 s, total: 55.4 s\n",
      "Wall time: 1min 32s\n"
     ]
    },
    {
     "data": {
      "text/plain": [
       "(900, 900, 900)"
      ]
     },
     "execution_count": 4,
     "metadata": {},
     "output_type": "execute_result"
    }
   ],
   "source": [
    "%%time\n",
    "# Y\n",
    "Y = lam*xp + G\n",
    "np.shape(Y)"
   ]
  },
  {
   "cell_type": "code",
   "execution_count": 5,
   "id": "dabfd6c8",
   "metadata": {},
   "outputs": [
    {
     "data": {
      "text/plain": [
       "(900, 810000)"
      ]
     },
     "execution_count": 5,
     "metadata": {},
     "output_type": "execute_result"
    }
   ],
   "source": [
    "# flatten Y\n",
    "Ybar = Y.reshape((n,n**2))\n",
    "np.shape(Ybar)"
   ]
  },
  {
   "cell_type": "code",
   "execution_count": 6,
   "id": "2d2bb831",
   "metadata": {},
   "outputs": [
    {
     "name": "stdout",
     "output_type": "stream",
     "text": [
      "CPU times: user 45.8 s, sys: 28 s, total: 1min 13s\n",
      "Wall time: 53.3 s\n"
     ]
    },
    {
     "data": {
      "text/plain": [
       "(900, 900)"
      ]
     },
     "execution_count": 6,
     "metadata": {},
     "output_type": "execute_result"
    }
   ],
   "source": [
    "%%time\n",
    "# estimate <x,x>\n",
    "midpt = np.ceil((n**2-n)/2).astype(int)\n",
    "Mhat = functools.reduce(np.matmul,\n",
    "              [np.transpose(Ybar[0:(n//3),0:n]),\n",
    "               Ybar[0:n//3,(n+1):(n+1+midpt)],\n",
    "               np.transpose(Ybar[((n//3)+1):(2*n//3),(n+1):(n+1+midpt)]),\n",
    "               Ybar[((n//3)+1):(2*n//3),(n+2+midpt):],\n",
    "               np.transpose(Ybar[(2*n//3+1):,(n+2+midpt):]),\n",
    "               Ybar[(2*n//3+1):,0:n]])\n",
    "np.shape(Mhat)"
   ]
  },
  {
   "cell_type": "code",
   "execution_count": 7,
   "id": "a07557c4",
   "metadata": {},
   "outputs": [],
   "source": [
    "# recover x via spectral clustering\n",
    "U,S,Ut = np.linalg.svd(Mhat)"
   ]
  },
  {
   "cell_type": "code",
   "execution_count": 8,
   "id": "bdfdef8a",
   "metadata": {},
   "outputs": [],
   "source": [
    "# estimate for x\n",
    "xhat = np.sign(Ut[0])"
   ]
  },
  {
   "cell_type": "code",
   "execution_count": 9,
   "id": "90a23e95",
   "metadata": {},
   "outputs": [
    {
     "name": "stdout",
     "output_type": "stream",
     "text": [
      "0.0 0.0\n"
     ]
    }
   ],
   "source": [
    "# How well did we do?\n",
    "err2norm = np.minimum(np.linalg.norm(xhat - x), np.linalg.norm(xhat + x))\n",
    "print(err2norm, np.minimum(np.sum(xhat==x)/n, np.sum(xhat!=x)/n))"
   ]
  },
  {
   "cell_type": "markdown",
   "id": "f3aebdad",
   "metadata": {},
   "source": [
    "# Different Values of Lambda"
   ]
  },
  {
   "cell_type": "code",
   "execution_count": 10,
   "id": "7192cf73",
   "metadata": {},
   "outputs": [],
   "source": [
    "lam1 = 0.5\n",
    "lam2 = 0.3\n",
    "lam3 = 0.2\n",
    "lam4 = 0.15\n",
    "lam5 = 0.1"
   ]
  },
  {
   "cell_type": "code",
   "execution_count": 11,
   "id": "4d62ffa8",
   "metadata": {},
   "outputs": [
    {
     "name": "stdout",
     "output_type": "stream",
     "text": [
      "CPU times: user 56.7 s, sys: 5min 7s, total: 6min 4s\n",
      "Wall time: 10min 47s\n"
     ]
    }
   ],
   "source": [
    "%%time\n",
    "# Y\n",
    "Y1 = lam1*xp + G\n",
    "Y2 = lam2*xp + G\n",
    "Y3 = lam3*xp + G\n",
    "Y4 = lam4*xp + G\n",
    "Y5 = lam5*xp + G"
   ]
  },
  {
   "cell_type": "code",
   "execution_count": 12,
   "id": "6edbb84c",
   "metadata": {},
   "outputs": [],
   "source": [
    "# flatten Y\n",
    "Ybar1 = Y1.reshape((n,n**2))\n",
    "Ybar2 = Y2.reshape((n,n**2))\n",
    "Ybar3 = Y3.reshape((n,n**2))\n",
    "Ybar4 = Y4.reshape((n,n**2))\n",
    "Ybar5 = Y5.reshape((n,n**2))"
   ]
  },
  {
   "cell_type": "code",
   "execution_count": 13,
   "id": "ce01d39a",
   "metadata": {},
   "outputs": [
    {
     "name": "stdout",
     "output_type": "stream",
     "text": [
      "CPU times: user 51.1 s, sys: 36.2 s, total: 1min 27s\n",
      "Wall time: 1min 8s\n"
     ]
    }
   ],
   "source": [
    "%%time\n",
    "# estimate <x,x>\n",
    "midpt = np.ceil((n**2-n)/2).astype(int)\n",
    "Mhat1 = functools.reduce(np.matmul,\n",
    "              [np.transpose(Ybar1[0:(n//3),0:n]),\n",
    "               Ybar1[0:n//3,(n+1):(n+1+midpt)],\n",
    "               np.transpose(Ybar1[((n//3)+1):(2*n//3),(n+1):(n+1+midpt)]),\n",
    "               Ybar1[((n//3)+1):(2*n//3),(n+2+midpt):],\n",
    "               np.transpose(Ybar1[(2*n//3+1):,(n+2+midpt):]),\n",
    "               Ybar1[(2*n//3+1):,0:n]])"
   ]
  },
  {
   "cell_type": "code",
   "execution_count": 14,
   "id": "f9838e15",
   "metadata": {},
   "outputs": [
    {
     "name": "stdout",
     "output_type": "stream",
     "text": [
      "CPU times: user 50.1 s, sys: 29.7 s, total: 1min 19s\n",
      "Wall time: 59.7 s\n"
     ]
    }
   ],
   "source": [
    "%%time\n",
    "Mhat2 = functools.reduce(np.matmul,\n",
    "              [np.transpose(Ybar2[0:(n//3),0:n]),\n",
    "               Ybar2[0:n//3,(n+1):(n+1+midpt)],\n",
    "               np.transpose(Ybar2[((n//3)+1):(2*n//3),(n+1):(n+1+midpt)]),\n",
    "               Ybar2[((n//3)+1):(2*n//3),(n+2+midpt):],\n",
    "               np.transpose(Ybar2[(2*n//3+1):,(n+2+midpt):]),\n",
    "               Ybar2[(2*n//3+1):,0:n]])"
   ]
  },
  {
   "cell_type": "code",
   "execution_count": 15,
   "id": "1e0186a4",
   "metadata": {},
   "outputs": [
    {
     "name": "stdout",
     "output_type": "stream",
     "text": [
      "CPU times: user 55.8 s, sys: 30.2 s, total: 1min 25s\n",
      "Wall time: 1min\n"
     ]
    }
   ],
   "source": [
    "%%time\n",
    "Mhat3 = functools.reduce(np.matmul,\n",
    "              [np.transpose(Ybar3[0:(n//3),0:n]),\n",
    "               Ybar3[0:n//3,(n+1):(n+1+midpt)],\n",
    "               np.transpose(Ybar3[((n//3)+1):(2*n//3),(n+1):(n+1+midpt)]),\n",
    "               Ybar3[((n//3)+1):(2*n//3),(n+2+midpt):],\n",
    "               np.transpose(Ybar3[(2*n//3+1):,(n+2+midpt):]),\n",
    "               Ybar3[(2*n//3+1):,0:n]])"
   ]
  },
  {
   "cell_type": "code",
   "execution_count": 16,
   "id": "5638710b",
   "metadata": {},
   "outputs": [
    {
     "name": "stdout",
     "output_type": "stream",
     "text": [
      "CPU times: user 1min 2s, sys: 33.3 s, total: 1min 35s\n",
      "Wall time: 1min 6s\n"
     ]
    }
   ],
   "source": [
    "%%time\n",
    "Mhat4 = functools.reduce(np.matmul,\n",
    "              [np.transpose(Ybar4[0:(n//3),0:n]),\n",
    "               Ybar4[0:n//3,(n+1):(n+1+midpt)],\n",
    "               np.transpose(Ybar4[((n//3)+1):(2*n//3),(n+1):(n+1+midpt)]),\n",
    "               Ybar4[((n//3)+1):(2*n//3),(n+2+midpt):],\n",
    "               np.transpose(Ybar4[(2*n//3+1):,(n+2+midpt):]),\n",
    "               Ybar4[(2*n//3+1):,0:n]])"
   ]
  },
  {
   "cell_type": "code",
   "execution_count": 17,
   "id": "d68db5c2",
   "metadata": {},
   "outputs": [
    {
     "name": "stdout",
     "output_type": "stream",
     "text": [
      "CPU times: user 57.9 s, sys: 27.1 s, total: 1min 24s\n",
      "Wall time: 56.4 s\n"
     ]
    }
   ],
   "source": [
    "%%time\n",
    "Mhat5 = functools.reduce(np.matmul,\n",
    "              [np.transpose(Ybar5[0:(n//3),0:n]),\n",
    "               Ybar5[0:n//3,(n+1):(n+1+midpt)],\n",
    "               np.transpose(Ybar5[((n//3)+1):(2*n//3),(n+1):(n+1+midpt)]),\n",
    "               Ybar5[((n//3)+1):(2*n//3),(n+2+midpt):],\n",
    "               np.transpose(Ybar5[(2*n//3+1):,(n+2+midpt):]),\n",
    "               Ybar5[(2*n//3+1):,0:n]])"
   ]
  },
  {
   "cell_type": "code",
   "execution_count": 18,
   "id": "4d92fa16",
   "metadata": {},
   "outputs": [
    {
     "name": "stdout",
     "output_type": "stream",
     "text": [
      "CPU times: user 4.26 s, sys: 325 ms, total: 4.58 s\n",
      "Wall time: 2.58 s\n"
     ]
    }
   ],
   "source": [
    "%%time\n",
    "# recover x via spectral clustering\n",
    "U,S,Ut1 = np.linalg.svd(Mhat1)\n",
    "U,S,Ut2 = np.linalg.svd(Mhat2)\n",
    "U,S,Ut3 = np.linalg.svd(Mhat3)\n",
    "U,S,Ut4 = np.linalg.svd(Mhat4)\n",
    "U,S,Ut5 = np.linalg.svd(Mhat5)"
   ]
  },
  {
   "cell_type": "code",
   "execution_count": 19,
   "id": "bbe172e7",
   "metadata": {},
   "outputs": [],
   "source": [
    "# estimate for x\n",
    "xhat1 = np.sign(Ut1[0])\n",
    "xhat2 = np.sign(Ut2[0])\n",
    "xhat3 = np.sign(Ut3[0])\n",
    "xhat4 = np.sign(Ut4[0])\n",
    "xhat5 = np.sign(Ut5[0])"
   ]
  },
  {
   "cell_type": "code",
   "execution_count": 20,
   "id": "8dec452a",
   "metadata": {},
   "outputs": [
    {
     "name": "stdout",
     "output_type": "stream",
     "text": [
      "0.0 0.0\n"
     ]
    }
   ],
   "source": [
    "# How well did we do? lambda = 0.5\n",
    "err2norm1 = np.minimum(np.linalg.norm(xhat1 - x), np.linalg.norm(xhat1 + x))\n",
    "print(err2norm1, np.minimum(np.sum(xhat1==x)/n, np.sum(xhat1!=x)/n))"
   ]
  },
  {
   "cell_type": "code",
   "execution_count": 21,
   "id": "610d2b66",
   "metadata": {},
   "outputs": [
    {
     "name": "stdout",
     "output_type": "stream",
     "text": [
      "0.0 0.0\n"
     ]
    }
   ],
   "source": [
    "# How well did we do? lambda = 0.3\n",
    "err2norm2 = np.minimum(np.linalg.norm(xhat2 - x), np.linalg.norm(xhat2 + x))\n",
    "print(err2norm2, np.minimum(np.sum(xhat2==x)/n, np.sum(xhat2!=x)/n))"
   ]
  },
  {
   "cell_type": "code",
   "execution_count": 22,
   "id": "ae6105fe",
   "metadata": {},
   "outputs": [
    {
     "name": "stdout",
     "output_type": "stream",
     "text": [
      "0.0 0.0\n"
     ]
    }
   ],
   "source": [
    "# How well did we do? lambda = 0.2\n",
    "err2norm3 = np.minimum(np.linalg.norm(xhat3 - x), np.linalg.norm(xhat3 + x))\n",
    "print(err2norm3, np.minimum(np.sum(xhat3==x)/n, np.sum(xhat3!=x)/n))"
   ]
  },
  {
   "cell_type": "code",
   "execution_count": 23,
   "id": "6af201cc",
   "metadata": {},
   "outputs": [
    {
     "name": "stdout",
     "output_type": "stream",
     "text": [
      "4.47213595499958 0.005555555555555556\n"
     ]
    }
   ],
   "source": [
    "# How well did we do? lambda = 0.15\n",
    "err2norm4 = np.minimum(np.linalg.norm(xhat4 - x), np.linalg.norm(xhat4 + x))\n",
    "print(err2norm4, np.minimum(np.sum(xhat4==x)/n, np.sum(xhat4!=x)/n))"
   ]
  },
  {
   "cell_type": "code",
   "execution_count": 24,
   "id": "50c15122",
   "metadata": {},
   "outputs": [
    {
     "name": "stdout",
     "output_type": "stream",
     "text": [
      "12.489995996796797 0.043333333333333335\n"
     ]
    }
   ],
   "source": [
    "# How well did we do? lambda = 0.1\n",
    "err2norm5 = np.minimum(np.linalg.norm(xhat5 - x), np.linalg.norm(xhat5 + x))\n",
    "print(err2norm5, np.minimum(np.sum(xhat5==x)/n, np.sum(xhat5!=x)/n))"
   ]
  },
  {
   "cell_type": "code",
   "execution_count": 25,
   "id": "9b86ac15",
   "metadata": {},
   "outputs": [
    {
     "data": {
      "text/plain": [
       "0.006085806194501846"
      ]
     },
     "execution_count": 25,
     "metadata": {},
     "output_type": "execute_result"
    }
   ],
   "source": [
    "n**(-p/4)"
   ]
  },
  {
   "cell_type": "code",
   "execution_count": null,
   "id": "7e941f6f",
   "metadata": {},
   "outputs": [],
   "source": []
  }
 ],
 "metadata": {
  "kernelspec": {
   "display_name": "Python 3",
   "language": "python",
   "name": "python3"
  },
  "language_info": {
   "codemirror_mode": {
    "name": "ipython",
    "version": 3
   },
   "file_extension": ".py",
   "mimetype": "text/x-python",
   "name": "python",
   "nbconvert_exporter": "python",
   "pygments_lexer": "ipython3",
   "version": "3.7.1"
  }
 },
 "nbformat": 4,
 "nbformat_minor": 5
}
